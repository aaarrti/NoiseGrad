{
 "cells": [
  {
   "cell_type": "markdown",
   "source": [
    "## Example NoiseGrad and NoiseGrad++ text-classification\n",
    "\n",
    "With a few lines of code we show how to use NoiseGrad and NoiseGrad++ with PyTorch, as a way to enhance text-classification explanation method.\n",
    "\n",
    "• **Paper:** NoiseGrad: enhancing explanations by introducing stochasticity to model weights\n",
    "• **Author:** Artem Sereda\n",
    "• **Institution:** TU Berlin, ML Department, Understandable Machine Intelligence Lab\n",
    "• **Date:** February, 2023\n"
   ],
   "metadata": {
    "collapsed": false
   }
  },
  {
   "cell_type": "code",
   "execution_count": 1,
   "outputs": [],
   "source": [
    "import torch\n",
    "from datasets import load_dataset\n",
    "from transformers import AutoModelForSequenceClassification, AutoTokenizer\n",
    "from noisegrad import NoiseGrad, NoiseGradPlusPlus, utils, explainers\n",
    "from functools import partial\n",
    "from IPython.core.display import HTML\n",
    "\n",
    "device = torch.device(\"cpu\")"
   ],
   "metadata": {
    "collapsed": false
   }
  },
  {
   "cell_type": "markdown",
   "source": [
    "### Step 1. Load data and model"
   ],
   "metadata": {
    "collapsed": false
   }
  },
  {
   "cell_type": "code",
   "execution_count": 2,
   "outputs": [
    {
     "name": "stderr",
     "output_type": "stream",
     "text": [
      "Found cached dataset sst2 (/Users/artemsereda/.cache/huggingface/datasets/sst2/default/2.0.0/9896208a8d85db057ac50c72282bcb8fe755accc671a57dd8059d4e130961ed5)\n"
     ]
    },
    {
     "data": {
      "text/plain": "  0%|          | 0/3 [00:00<?, ?it/s]",
      "application/vnd.jupyter.widget-view+json": {
       "version_major": 2,
       "version_minor": 0,
       "model_id": "0b8cc26cc2b04a8489ea171ba091240a"
      }
     },
     "metadata": {},
     "output_type": "display_data"
    }
   ],
   "source": [
    "x_batch = load_dataset(\"sst2\")[\"test\"][\"sentence\"][:1]"
   ],
   "metadata": {
    "collapsed": false
   }
  },
  {
   "cell_type": "code",
   "execution_count": 3,
   "outputs": [],
   "source": [
    "tokenizer = AutoTokenizer.from_pretrained(\n",
    "    \"distilbert-base-uncased-finetuned-sst-2-english\"\n",
    ")\n",
    "model = AutoModelForSequenceClassification.from_pretrained(\n",
    "    \"distilbert-base-uncased-finetuned-sst-2-english\"\n",
    ")"
   ],
   "metadata": {
    "collapsed": false
   }
  },
  {
   "cell_type": "code",
   "execution_count": 4,
   "outputs": [],
   "source": [
    "input_ids = tokenizer(x_batch, return_tensors=\"pt\")[\"input_ids\"]"
   ],
   "metadata": {
    "collapsed": false
   }
  },
  {
   "cell_type": "code",
   "execution_count": 5,
   "outputs": [],
   "source": [
    "tokens = tokenizer.convert_ids_to_tokens(input_ids.numpy().tolist()[0])"
   ],
   "metadata": {
    "collapsed": false
   }
  },
  {
   "cell_type": "code",
   "execution_count": 6,
   "outputs": [],
   "source": [
    "y_batch = model(input_ids).logits.detach().argmax(axis=-1)"
   ],
   "metadata": {
    "collapsed": false
   }
  },
  {
   "cell_type": "code",
   "execution_count": 7,
   "outputs": [],
   "source": [
    "def embedding_lookup(input_ids):\n",
    "    seq_length = input_ids.size(1)\n",
    "    position_ids = torch.arange(seq_length, dtype=torch.int64, device=input_ids.device)\n",
    "    position_ids = position_ids.unsqueeze(0).expand_as(input_ids)\n",
    "    word_embeddings = model.get_input_embeddings()(input_ids)\n",
    "    position_embeddings = model.get_position_embeddings()(position_ids)\n",
    "    return word_embeddings + position_embeddings\n",
    "\n",
    "\n",
    "x_batch_embeddings = embedding_lookup(input_ids)"
   ],
   "metadata": {
    "collapsed": false
   }
  },
  {
   "cell_type": "markdown",
   "source": [
    "### Step 2. Initialize methods"
   ],
   "metadata": {
    "collapsed": false
   },
   "execution_count": 1
  },
  {
   "cell_type": "code",
   "execution_count": 8,
   "outputs": [],
   "source": [
    "ng = NoiseGrad(n=5)\n",
    "ng_pp = NoiseGradPlusPlus(n=5, m=5)"
   ],
   "metadata": {
    "collapsed": false
   }
  },
  {
   "cell_type": "markdown",
   "source": [
    "### Step 3. Get explanations"
   ],
   "metadata": {
    "collapsed": false
   }
  },
  {
   "cell_type": "code",
   "execution_count": 9,
   "outputs": [],
   "source": [
    "baseline_scores = explainers.explain_gradient_x_input(\n",
    "    model, x_batch_embeddings, y_batch, attention_mask=None\n",
    ").numpy()"
   ],
   "metadata": {
    "collapsed": false
   }
  },
  {
   "cell_type": "code",
   "execution_count": 10,
   "outputs": [
    {
     "data": {
      "text/plain": "NoiseGrad:   0%|          | 0/5 [00:00<?, ?it/s]",
      "application/vnd.jupyter.widget-view+json": {
       "version_major": 2,
       "version_minor": 0,
       "model_id": "30f87f9febcd409a8300b7c86a79657a"
      }
     },
     "metadata": {},
     "output_type": "display_data"
    }
   ],
   "source": [
    "ng_scores = ng.enhance_explanation(\n",
    "    model,\n",
    "    x_batch_embeddings,\n",
    "    y_batch,\n",
    "    explanation_fn=partial(explainers.explain_gradient_x_input, attention_mask=None),\n",
    ").numpy()"
   ],
   "metadata": {
    "collapsed": false
   }
  },
  {
   "cell_type": "code",
   "execution_count": 11,
   "outputs": [
    {
     "data": {
      "text/plain": "NoiseGrad++:   0%|          | 0/25 [00:00<?, ?it/s]",
      "application/vnd.jupyter.widget-view+json": {
       "version_major": 2,
       "version_minor": 0,
       "model_id": "f7accb7408864e64951c2ea4c1baae57"
      }
     },
     "metadata": {},
     "output_type": "display_data"
    }
   ],
   "source": [
    "ng_pp_scores = ng_pp.enhance_explanation(\n",
    "    model,\n",
    "    x_batch_embeddings,\n",
    "    y_batch,\n",
    "    explanation_fn=partial(explainers.explain_gradient_x_input, attention_mask=None),\n",
    ").numpy()"
   ],
   "metadata": {
    "collapsed": false
   }
  },
  {
   "cell_type": "markdown",
   "source": [
    "### Step 4. Visualize explanations"
   ],
   "metadata": {
    "collapsed": false
   }
  },
  {
   "cell_type": "code",
   "execution_count": 12,
   "outputs": [
    {
     "data": {
      "text/plain": "<IPython.core.display.HTML object>",
      "text/html": "\n        <style>\n\n            .container {\n                line-height: 1.4;\n                text-align: center;\n                margin: 10px 10px 10px 10px;\n                color: black;\n                background: white;\n            }\n\n            p {\n                font-size: 16px;\n            }\n\n            .highlight-container, .highlight {\n                position: relative;\n                border-radius: 10% 10% 10% 10%;\n            }\n\n            .highlight-container {\n                display: inline-block;\n            }\n\n            .highlight-container:before {\n                content: \" \";\n                display: block;\n                height: 90%;\n                width: 100%;\n                margin-left: -3px;\n                margin-right: -3px;\n                position: absolute;\n                top: -1px;\n                left: -1px;\n                padding: 10px 3px 3px 10px;\n            }\n\n        </style>\n\n        \n        <div class=\"container\">\n            <p>\n                Baseline <br>\n                \n        <span class=\"highlight-container\" style=\"background:rgb(255.0,247.01094863936305,247.01094863936305);\">\n            <span class=\"highlight\"> uneasy </span>\n        </span>\n         \n        <span class=\"highlight-container\" style=\"background:rgb(255.0,246.25947436317801,246.25947436317801);\">\n            <span class=\"highlight\"> mis </span>\n        </span>\n         \n        <span class=\"highlight-container\" style=\"background:rgb(0.0,0.0,255.0);\">\n            <span class=\"highlight\"> ##hma </span>\n        </span>\n         \n        <span class=\"highlight-container\" style=\"background:rgb(253.54243086883798,253.54243086883798,255.0);\">\n            <span class=\"highlight\"> ##sh </span>\n        </span>\n         \n        <span class=\"highlight-container\" style=\"background:rgb(255.0,243.20658043026924,243.20658043026924);\">\n            <span class=\"highlight\"> of </span>\n        </span>\n         \n        <span class=\"highlight-container\" style=\"background:rgb(255.0,248.02373916842043,248.02373916842043);\">\n            <span class=\"highlight\"> styles </span>\n        </span>\n         \n        <span class=\"highlight-container\" style=\"background:rgb(255.0,249.55761236138642,249.55761236138642);\">\n            <span class=\"highlight\"> and </span>\n        </span>\n         \n        <span class=\"highlight-container\" style=\"background:rgb(248.6371488031,248.6371488031,255.0);\">\n            <span class=\"highlight\"> genres </span>\n        </span>\n         \n        <span class=\"highlight-container\" style=\"background:rgb(255.0,242.3096727579832,242.3096727579832);\">\n            <span class=\"highlight\"> . </span>\n        </span>\n         \n            </p>\n        </div>\n        \n        <div class=\"container\">\n            <p>\n                NoiseGrad <br>\n                \n        <span class=\"highlight-container\" style=\"background:rgb(211.47010199725628,211.47010199725628,255.0);\">\n            <span class=\"highlight\"> uneasy </span>\n        </span>\n         \n        <span class=\"highlight-container\" style=\"background:rgb(238.01589746028185,238.01589746028185,255.0);\">\n            <span class=\"highlight\"> mis </span>\n        </span>\n         \n        <span class=\"highlight-container\" style=\"background:rgb(0.0,0.0,255.0);\">\n            <span class=\"highlight\"> ##hma </span>\n        </span>\n         \n        <span class=\"highlight-container\" style=\"background:rgb(227.59114544838667,227.59114544838667,255.0);\">\n            <span class=\"highlight\"> ##sh </span>\n        </span>\n         \n        <span class=\"highlight-container\" style=\"background:rgb(152.66512244939804,152.66512244939804,255.0);\">\n            <span class=\"highlight\"> of </span>\n        </span>\n         \n        <span class=\"highlight-container\" style=\"background:rgb(27.500629127025604,27.500629127025604,255.0);\">\n            <span class=\"highlight\"> styles </span>\n        </span>\n         \n        <span class=\"highlight-container\" style=\"background:rgb(177.00690507888794,177.00690507888794,255.0);\">\n            <span class=\"highlight\"> and </span>\n        </span>\n         \n        <span class=\"highlight-container\" style=\"background:rgb(26.55352234840393,26.55352234840393,255.0);\">\n            <span class=\"highlight\"> genres </span>\n        </span>\n         \n        <span class=\"highlight-container\" style=\"background:rgb(225.41737899184227,225.41737899184227,255.0);\">\n            <span class=\"highlight\"> . </span>\n        </span>\n         \n            </p>\n        </div>\n        \n        <div class=\"container\">\n            <p>\n                NoiseGrad++ <br>\n                \n        <span class=\"highlight-container\" style=\"background:rgb(255.0,11.597752869129181,11.597752869129181);\">\n            <span class=\"highlight\"> uneasy </span>\n        </span>\n         \n        <span class=\"highlight-container\" style=\"background:rgb(255.0,147.33153104782104,147.33153104782104);\">\n            <span class=\"highlight\"> mis </span>\n        </span>\n         \n        <span class=\"highlight-container\" style=\"background:rgb(138.0484999716282,138.0484999716282,255.0);\">\n            <span class=\"highlight\"> ##hma </span>\n        </span>\n         \n        <span class=\"highlight-container\" style=\"background:rgb(255.0,116.6096019744873,116.6096019744873);\">\n            <span class=\"highlight\"> ##sh </span>\n        </span>\n         \n        <span class=\"highlight-container\" style=\"background:rgb(255.0,0.0,0.0);\">\n            <span class=\"highlight\"> of </span>\n        </span>\n         \n        <span class=\"highlight-container\" style=\"background:rgb(33.45486402511597,33.45486402511597,255.0);\">\n            <span class=\"highlight\"> styles </span>\n        </span>\n         \n        <span class=\"highlight-container\" style=\"background:rgb(255.0,122.2839742898941,122.2839742898941);\">\n            <span class=\"highlight\"> and </span>\n        </span>\n         \n        <span class=\"highlight-container\" style=\"background:rgb(170.82538157701492,170.82538157701492,255.0);\">\n            <span class=\"highlight\"> genres </span>\n        </span>\n         \n        <span class=\"highlight-container\" style=\"background:rgb(214.88456457853317,214.88456457853317,255.0);\">\n            <span class=\"highlight\"> . </span>\n        </span>\n         \n            </p>\n        </div>\n        \n        "
     },
     "execution_count": 12,
     "metadata": {},
     "output_type": "execute_result"
    }
   ],
   "source": [
    "HTML(\n",
    "    utils.visualise_explanations_as_html(\n",
    "        [\n",
    "            (tokens, baseline_scores[0]),\n",
    "            (tokens, ng_scores[0]),\n",
    "            (tokens, ng_pp_scores[0]),\n",
    "        ],\n",
    "        ignore_special_tokens=True,\n",
    "        labels=[\"Baseline\", \"NoiseGrad\", \"NoiseGrad++\"],\n",
    "    )\n",
    ")"
   ],
   "metadata": {
    "collapsed": false
   }
  },
  {
   "cell_type": "code",
   "execution_count": null,
   "outputs": [],
   "source": [],
   "metadata": {
    "collapsed": false
   }
  }
 ],
 "metadata": {
  "kernelspec": {
   "display_name": "Python 3",
   "language": "python",
   "name": "python3"
  },
  "language_info": {
   "codemirror_mode": {
    "name": "ipython",
    "version": 2
   },
   "file_extension": ".py",
   "mimetype": "text/x-python",
   "name": "python",
   "nbconvert_exporter": "python",
   "pygments_lexer": "ipython2",
   "version": "2.7.6"
  }
 },
 "nbformat": 4,
 "nbformat_minor": 0
}
