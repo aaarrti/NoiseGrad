{
 "cells": [
  {
   "cell_type": "markdown",
   "source": [
    "## Example NoiseGrad and NoiseGrad++ text-classification\n",
    "\n",
    "With a few lines of code we show how to use NoiseGrad and NoiseGrad++ with PyTorch, as a way to enhance text-classification explanation method.\n",
    "\n",
    "• **Paper:** NoiseGrad: enhancing explanations by introducing stochasticity to model weights\n",
    "• **Author:** Artem Sereda\n",
    "• **Institution:** TU Berlin, ML Department, Understandable Machine Intelligence Lab\n",
    "• **Date:** February, 2023\n"
   ],
   "metadata": {
    "collapsed": false
   }
  },
  {
   "cell_type": "code",
   "execution_count": 60,
   "outputs": [],
   "source": [
    "import torch\n",
    "from datasets import load_dataset\n",
    "from transformers import AutoModelForSequenceClassification, AutoTokenizer\n",
    "from noisegrad import NoiseGrad, NoiseGradPlusPlus, utils, explainers\n",
    "from functools import partial\n",
    "from IPython.core.display import HTML\n",
    "\n",
    "device = torch.device(\"cpu\")"
   ],
   "metadata": {
    "collapsed": false
   }
  },
  {
   "cell_type": "markdown",
   "source": [
    "### Step 1. Load data and model"
   ],
   "metadata": {
    "collapsed": false
   }
  },
  {
   "cell_type": "code",
   "execution_count": 61,
   "outputs": [
    {
     "name": "stderr",
     "output_type": "stream",
     "text": [
      "Found cached dataset sst2 (/Users/artemsereda/.cache/huggingface/datasets/sst2/default/2.0.0/9896208a8d85db057ac50c72282bcb8fe755accc671a57dd8059d4e130961ed5)\n"
     ]
    },
    {
     "data": {
      "text/plain": "  0%|          | 0/3 [00:00<?, ?it/s]",
      "application/vnd.jupyter.widget-view+json": {
       "version_major": 2,
       "version_minor": 0,
       "model_id": "1b4d865cb4f74fda9db25b6ddb21be10"
      }
     },
     "metadata": {},
     "output_type": "display_data"
    },
    {
     "data": {
      "text/plain": "['by the end of no such thing the audience , like beatrice , has a watchful affection for the monster .']"
     },
     "execution_count": 61,
     "metadata": {},
     "output_type": "execute_result"
    }
   ],
   "source": [
    "x_batch = [load_dataset(\"sst2\")[\"test\"][\"sentence\"][2]]\n",
    "x_batch"
   ],
   "metadata": {
    "collapsed": false
   }
  },
  {
   "cell_type": "code",
   "execution_count": 62,
   "outputs": [],
   "source": [
    "tokenizer = AutoTokenizer.from_pretrained(\n",
    "    \"distilbert-base-uncased-finetuned-sst-2-english\"\n",
    ")\n",
    "model = AutoModelForSequenceClassification.from_pretrained(\n",
    "    \"distilbert-base-uncased-finetuned-sst-2-english\"\n",
    ")"
   ],
   "metadata": {
    "collapsed": false
   }
  },
  {
   "cell_type": "code",
   "execution_count": 63,
   "outputs": [],
   "source": [
    "input_ids = tokenizer(x_batch, return_tensors=\"pt\")[\"input_ids\"]"
   ],
   "metadata": {
    "collapsed": false
   }
  },
  {
   "cell_type": "code",
   "execution_count": 64,
   "outputs": [],
   "source": [
    "tokens = tokenizer.convert_ids_to_tokens(input_ids.numpy().tolist()[0])"
   ],
   "metadata": {
    "collapsed": false
   }
  },
  {
   "cell_type": "code",
   "execution_count": 65,
   "outputs": [],
   "source": [
    "y_batch = model(input_ids).logits.detach().argmax(axis=-1)"
   ],
   "metadata": {
    "collapsed": false
   }
  },
  {
   "cell_type": "code",
   "execution_count": 66,
   "outputs": [],
   "source": [
    "def embedding_lookup(input_ids):\n",
    "    seq_length = input_ids.size(1)\n",
    "    position_ids = torch.arange(seq_length, dtype=torch.int64, device=input_ids.device)\n",
    "    position_ids = position_ids.unsqueeze(0).expand_as(input_ids)\n",
    "    word_embeddings = model.get_input_embeddings()(input_ids)\n",
    "    position_embeddings = model.get_position_embeddings()(position_ids)\n",
    "    return word_embeddings + position_embeddings\n",
    "\n",
    "\n",
    "x_batch_embeddings = embedding_lookup(input_ids)"
   ],
   "metadata": {
    "collapsed": false
   }
  },
  {
   "cell_type": "markdown",
   "source": [
    "### Step 2. Initialize methods"
   ],
   "metadata": {
    "collapsed": false
   },
   "execution_count": 1
  },
  {
   "cell_type": "code",
   "execution_count": 67,
   "outputs": [],
   "source": [
    "ng = NoiseGrad(n=5)\n",
    "ng_pp = NoiseGradPlusPlus(n=5, m=5)"
   ],
   "metadata": {
    "collapsed": false
   }
  },
  {
   "cell_type": "markdown",
   "source": [
    "### Step 3. Get explanations"
   ],
   "metadata": {
    "collapsed": false
   }
  },
  {
   "cell_type": "code",
   "execution_count": 68,
   "outputs": [],
   "source": [
    "baseline_scores = explainers.explain_gradient_x_input(\n",
    "    model, x_batch_embeddings, y_batch, attention_mask=None\n",
    ").numpy()"
   ],
   "metadata": {
    "collapsed": false
   }
  },
  {
   "cell_type": "code",
   "execution_count": 69,
   "outputs": [
    {
     "data": {
      "text/plain": "NoiseGrad:   0%|          | 0/5 [00:00<?, ?it/s]",
      "application/vnd.jupyter.widget-view+json": {
       "version_major": 2,
       "version_minor": 0,
       "model_id": "ac8b0a9090d249fc939ff3a3945d82bc"
      }
     },
     "metadata": {},
     "output_type": "display_data"
    }
   ],
   "source": [
    "ng_scores = ng.enhance_explanation(\n",
    "    model,\n",
    "    x_batch_embeddings,\n",
    "    y_batch,\n",
    "    explanation_fn=partial(explainers.explain_gradient_x_input, attention_mask=None),\n",
    ").numpy()"
   ],
   "metadata": {
    "collapsed": false
   }
  },
  {
   "cell_type": "code",
   "execution_count": 70,
   "outputs": [
    {
     "data": {
      "text/plain": "NoiseGrad++:   0%|          | 0/25 [00:00<?, ?it/s]",
      "application/vnd.jupyter.widget-view+json": {
       "version_major": 2,
       "version_minor": 0,
       "model_id": "cb32ad7b3825488ca88c17acbb237df5"
      }
     },
     "metadata": {},
     "output_type": "display_data"
    }
   ],
   "source": [
    "ng_pp_scores = ng_pp.enhance_explanation(\n",
    "    model,\n",
    "    x_batch_embeddings,\n",
    "    y_batch,\n",
    "    explanation_fn=partial(explainers.explain_gradient_x_input, attention_mask=None),\n",
    ").numpy()"
   ],
   "metadata": {
    "collapsed": false
   }
  },
  {
   "cell_type": "markdown",
   "source": [
    "### Step 4. Visualize explanations"
   ],
   "metadata": {
    "collapsed": false
   }
  },
  {
   "cell_type": "code",
   "execution_count": 71,
   "outputs": [
    {
     "data": {
      "text/plain": "<IPython.core.display.HTML object>",
      "text/html": "\n        <style>\n\n            .container {\n                line-height: 1.4;\n                text-align: center;\n                margin: 10px 10px 10px 10px;\n                color: black;\n                background: white;\n            }\n\n            p {\n                font-size: 16px;\n            }\n\n            .highlight-container, .highlight {\n                position: relative;\n                border-radius: 10% 10% 10% 10%;\n            }\n\n            .highlight-container {\n                display: inline-block;\n            }\n\n            .highlight-container:before {\n                content: \" \";\n                display: block;\n                height: 90%;\n                width: 100%;\n                margin-left: -3px;\n                margin-right: -3px;\n                position: absolute;\n                top: -1px;\n                left: -1px;\n                padding: 10px 3px 3px 10px;\n            }\n\n        </style>\n\n        \n        <div class=\"container\">\n            <p>\n                Baseline <br>\n                \n        <span class=\"highlight-container\" style=\"background:rgb(251.85613491106778,251.85613491106778,255.0);\">\n            <span class=\"highlight\"> by </span>\n        </span>\n         \n        <span class=\"highlight-container\" style=\"background:rgb(244.35969315469265,244.35969315469265,255.0);\">\n            <span class=\"highlight\"> the </span>\n        </span>\n         \n        <span class=\"highlight-container\" style=\"background:rgb(253.17190752597526,253.17190752597526,255.0);\">\n            <span class=\"highlight\"> end </span>\n        </span>\n         \n        <span class=\"highlight-container\" style=\"background:rgb(247.73529142141342,247.73529142141342,255.0);\">\n            <span class=\"highlight\"> of </span>\n        </span>\n         \n        <span class=\"highlight-container\" style=\"background:rgb(235.05074556916952,235.05074556916952,255.0);\">\n            <span class=\"highlight\"> no </span>\n        </span>\n         \n        <span class=\"highlight-container\" style=\"background:rgb(238.67394234985113,238.67394234985113,255.0);\">\n            <span class=\"highlight\"> such </span>\n        </span>\n         \n        <span class=\"highlight-container\" style=\"background:rgb(222.98022016882896,222.98022016882896,255.0);\">\n            <span class=\"highlight\"> thing </span>\n        </span>\n         \n        <span class=\"highlight-container\" style=\"background:rgb(247.8359774686396,247.8359774686396,255.0);\">\n            <span class=\"highlight\"> the </span>\n        </span>\n         \n        <span class=\"highlight-container\" style=\"background:rgb(241.97626819834113,241.97626819834113,255.0);\">\n            <span class=\"highlight\"> audience </span>\n        </span>\n         \n        <span class=\"highlight-container\" style=\"background:rgb(244.4931106455624,244.4931106455624,255.0);\">\n            <span class=\"highlight\"> , </span>\n        </span>\n         \n        <span class=\"highlight-container\" style=\"background:rgb(233.42319790273905,233.42319790273905,255.0);\">\n            <span class=\"highlight\"> like </span>\n        </span>\n         \n        <span class=\"highlight-container\" style=\"background:rgb(252.68829619511962,252.68829619511962,255.0);\">\n            <span class=\"highlight\"> beatrice </span>\n        </span>\n         \n        <span class=\"highlight-container\" style=\"background:rgb(248.61288235522807,248.61288235522807,255.0);\">\n            <span class=\"highlight\"> , </span>\n        </span>\n         \n        <span class=\"highlight-container\" style=\"background:rgb(246.9554478675127,246.9554478675127,255.0);\">\n            <span class=\"highlight\"> has </span>\n        </span>\n         \n        <span class=\"highlight-container\" style=\"background:rgb(242.41530993953347,242.41530993953347,255.0);\">\n            <span class=\"highlight\"> a </span>\n        </span>\n         \n        <span class=\"highlight-container\" style=\"background:rgb(252.7473744750023,252.7473744750023,255.0);\">\n            <span class=\"highlight\"> watch </span>\n        </span>\n         \n        <span class=\"highlight-container\" style=\"background:rgb(250.0767585542053,250.0767585542053,255.0);\">\n            <span class=\"highlight\"> ##ful </span>\n        </span>\n         \n        <span class=\"highlight-container\" style=\"background:rgb(255.0,217.6052451878786,217.6052451878786);\">\n            <span class=\"highlight\"> affection </span>\n        </span>\n         \n        <span class=\"highlight-container\" style=\"background:rgb(255.0,0.0,0.0);\">\n            <span class=\"highlight\"> for </span>\n        </span>\n         \n        <span class=\"highlight-container\" style=\"background:rgb(248.1232021562755,248.1232021562755,255.0);\">\n            <span class=\"highlight\"> the </span>\n        </span>\n         \n        <span class=\"highlight-container\" style=\"background:rgb(233.66820685565472,233.66820685565472,255.0);\">\n            <span class=\"highlight\"> monster </span>\n        </span>\n         \n        <span class=\"highlight-container\" style=\"background:rgb(245.64277600497007,245.64277600497007,255.0);\">\n            <span class=\"highlight\"> . </span>\n        </span>\n         \n            </p>\n        </div>\n        \n        <div class=\"container\">\n            <p>\n                NoiseGrad <br>\n                \n        <span class=\"highlight-container\" style=\"background:rgb(243.11291925609112,243.11291925609112,255.0);\">\n            <span class=\"highlight\"> by </span>\n        </span>\n         \n        <span class=\"highlight-container\" style=\"background:rgb(255.0,0.0,0.0);\">\n            <span class=\"highlight\"> the </span>\n        </span>\n         \n        <span class=\"highlight-container\" style=\"background:rgb(237.59764440357685,237.59764440357685,255.0);\">\n            <span class=\"highlight\"> end </span>\n        </span>\n         \n        <span class=\"highlight-container\" style=\"background:rgb(248.3453178126365,248.3453178126365,255.0);\">\n            <span class=\"highlight\"> of </span>\n        </span>\n         \n        <span class=\"highlight-container\" style=\"background:rgb(255.0,94.54027980566025,94.54027980566025);\">\n            <span class=\"highlight\"> no </span>\n        </span>\n         \n        <span class=\"highlight-container\" style=\"background:rgb(243.55518132448196,243.55518132448196,255.0);\">\n            <span class=\"highlight\"> such </span>\n        </span>\n         \n        <span class=\"highlight-container\" style=\"background:rgb(232.87921149283648,232.87921149283648,255.0);\">\n            <span class=\"highlight\"> thing </span>\n        </span>\n         \n        <span class=\"highlight-container\" style=\"background:rgb(255.0,52.30814516544342,52.30814516544342);\">\n            <span class=\"highlight\"> the </span>\n        </span>\n         \n        <span class=\"highlight-container\" style=\"background:rgb(252.71776480134577,252.71776480134577,255.0);\">\n            <span class=\"highlight\"> audience </span>\n        </span>\n         \n        <span class=\"highlight-container\" style=\"background:rgb(255.0,65.96301645040512,65.96301645040512);\">\n            <span class=\"highlight\"> , </span>\n        </span>\n         \n        <span class=\"highlight-container\" style=\"background:rgb(255.0,237.82461382448673,237.82461382448673);\">\n            <span class=\"highlight\"> like </span>\n        </span>\n         \n        <span class=\"highlight-container\" style=\"background:rgb(255.0,234.4824841618538,234.4824841618538);\">\n            <span class=\"highlight\"> beatrice </span>\n        </span>\n         \n        <span class=\"highlight-container\" style=\"background:rgb(255.0,66.99508666992188,66.99508666992188);\">\n            <span class=\"highlight\"> , </span>\n        </span>\n         \n        <span class=\"highlight-container\" style=\"background:rgb(211.3852259516716,211.3852259516716,255.0);\">\n            <span class=\"highlight\"> has </span>\n        </span>\n         \n        <span class=\"highlight-container\" style=\"background:rgb(255.0,198.40644098818302,198.40644098818302);\">\n            <span class=\"highlight\"> a </span>\n        </span>\n         \n        <span class=\"highlight-container\" style=\"background:rgb(246.4406999386847,246.4406999386847,255.0);\">\n            <span class=\"highlight\"> watch </span>\n        </span>\n         \n        <span class=\"highlight-container\" style=\"background:rgb(254.00933716795407,254.00933716795407,255.0);\">\n            <span class=\"highlight\"> ##ful </span>\n        </span>\n         \n        <span class=\"highlight-container\" style=\"background:rgb(255.0,201.8178941309452,201.8178941309452);\">\n            <span class=\"highlight\"> affection </span>\n        </span>\n         \n        <span class=\"highlight-container\" style=\"background:rgb(249.71891750581563,249.71891750581563,255.0);\">\n            <span class=\"highlight\"> for </span>\n        </span>\n         \n        <span class=\"highlight-container\" style=\"background:rgb(255.0,67.23456501960754,67.23456501960754);\">\n            <span class=\"highlight\"> the </span>\n        </span>\n         \n        <span class=\"highlight-container\" style=\"background:rgb(237.37851966172457,237.37851966172457,255.0);\">\n            <span class=\"highlight\"> monster </span>\n        </span>\n         \n        <span class=\"highlight-container\" style=\"background:rgb(255.0,175.42227610945702,175.42227610945702);\">\n            <span class=\"highlight\"> . </span>\n        </span>\n         \n            </p>\n        </div>\n        \n        <div class=\"container\">\n            <p>\n                NoiseGrad++ <br>\n                \n        <span class=\"highlight-container\" style=\"background:rgb(255.0,180.82395985722542,180.82395985722542);\">\n            <span class=\"highlight\"> by </span>\n        </span>\n         \n        <span class=\"highlight-container\" style=\"background:rgb(126.29186242818832,126.29186242818832,255.0);\">\n            <span class=\"highlight\"> the </span>\n        </span>\n         \n        <span class=\"highlight-container\" style=\"background:rgb(175.4794630408287,175.4794630408287,255.0);\">\n            <span class=\"highlight\"> end </span>\n        </span>\n         \n        <span class=\"highlight-container\" style=\"background:rgb(255.0,221.8227680772543,221.8227680772543);\">\n            <span class=\"highlight\"> of </span>\n        </span>\n         \n        <span class=\"highlight-container\" style=\"background:rgb(179.09208118915558,179.09208118915558,255.0);\">\n            <span class=\"highlight\"> no </span>\n        </span>\n         \n        <span class=\"highlight-container\" style=\"background:rgb(24.310943484306335,24.310943484306335,255.0);\">\n            <span class=\"highlight\"> such </span>\n        </span>\n         \n        <span class=\"highlight-container\" style=\"background:rgb(168.85327979922295,168.85327979922295,255.0);\">\n            <span class=\"highlight\"> thing </span>\n        </span>\n         \n        <span class=\"highlight-container\" style=\"background:rgb(240.59084923937917,240.59084923937917,255.0);\">\n            <span class=\"highlight\"> the </span>\n        </span>\n         \n        <span class=\"highlight-container\" style=\"background:rgb(165.21491423249245,165.21491423249245,255.0);\">\n            <span class=\"highlight\"> audience </span>\n        </span>\n         \n        <span class=\"highlight-container\" style=\"background:rgb(255.0,240.18449619412422,240.18449619412422);\">\n            <span class=\"highlight\"> , </span>\n        </span>\n         \n        <span class=\"highlight-container\" style=\"background:rgb(255.0,222.86452777683735,222.86452777683735);\">\n            <span class=\"highlight\"> like </span>\n        </span>\n         \n        <span class=\"highlight-container\" style=\"background:rgb(255.0,213.95234540104866,213.95234540104866);\">\n            <span class=\"highlight\"> beatrice </span>\n        </span>\n         \n        <span class=\"highlight-container\" style=\"background:rgb(255.0,151.5988540649414,151.5988540649414);\">\n            <span class=\"highlight\"> , </span>\n        </span>\n         \n        <span class=\"highlight-container\" style=\"background:rgb(255.0,253.63343242323026,253.63343242323026);\">\n            <span class=\"highlight\"> has </span>\n        </span>\n         \n        <span class=\"highlight-container\" style=\"background:rgb(255.0,210.29296316206455,210.29296316206455);\">\n            <span class=\"highlight\"> a </span>\n        </span>\n         \n        <span class=\"highlight-container\" style=\"background:rgb(255.0,210.58365896344185,210.58365896344185);\">\n            <span class=\"highlight\"> watch </span>\n        </span>\n         \n        <span class=\"highlight-container\" style=\"background:rgb(243.9504912123084,243.9504912123084,255.0);\">\n            <span class=\"highlight\"> ##ful </span>\n        </span>\n         \n        <span class=\"highlight-container\" style=\"background:rgb(255.0,221.0216722637415,221.0216722637415);\">\n            <span class=\"highlight\"> affection </span>\n        </span>\n         \n        <span class=\"highlight-container\" style=\"background:rgb(210.24839155375957,210.24839155375957,255.0);\">\n            <span class=\"highlight\"> for </span>\n        </span>\n         \n        <span class=\"highlight-container\" style=\"background:rgb(45.22286295890808,45.22286295890808,255.0);\">\n            <span class=\"highlight\"> the </span>\n        </span>\n         \n        <span class=\"highlight-container\" style=\"background:rgb(255.0,0.0,0.0);\">\n            <span class=\"highlight\"> monster </span>\n        </span>\n         \n        <span class=\"highlight-container\" style=\"background:rgb(255.0,217.24760457873344,217.24760457873344);\">\n            <span class=\"highlight\"> . </span>\n        </span>\n         \n            </p>\n        </div>\n        \n        "
     },
     "execution_count": 71,
     "metadata": {},
     "output_type": "execute_result"
    }
   ],
   "source": [
    "HTML(\n",
    "    utils.visualise_explanations_as_html(\n",
    "        [\n",
    "            (tokens, baseline_scores[0]),\n",
    "            (tokens, ng_scores[0]),\n",
    "            (tokens, ng_pp_scores[0]),\n",
    "        ],\n",
    "        ignore_special_tokens=True,\n",
    "        labels=[\"Baseline\", \"NoiseGrad\", \"NoiseGrad++\"],\n",
    "    )\n",
    ")"
   ],
   "metadata": {
    "collapsed": false
   }
  },
  {
   "cell_type": "code",
   "execution_count": null,
   "outputs": [],
   "source": [],
   "metadata": {
    "collapsed": false
   }
  }
 ],
 "metadata": {
  "kernelspec": {
   "display_name": "Python 3",
   "language": "python",
   "name": "python3"
  },
  "language_info": {
   "codemirror_mode": {
    "name": "ipython",
    "version": 2
   },
   "file_extension": ".py",
   "mimetype": "text/x-python",
   "name": "python",
   "nbconvert_exporter": "python",
   "pygments_lexer": "ipython2",
   "version": "2.7.6"
  }
 },
 "nbformat": 4,
 "nbformat_minor": 0
}
