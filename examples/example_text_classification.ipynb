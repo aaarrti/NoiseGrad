{
 "cells": [
  {
   "cell_type": "markdown",
   "source": [
    "## Example NoiseGrad and NoiseGrad++ text-classification\n",
    "\n",
    "With a few lines of code we show how to use NoiseGrad and NoiseGrad++ with PyTorch, as a way to enhance text-classification explanation method.\n",
    "\n",
    "• **Paper:** NoiseGrad: enhancing explanations by introducing stochasticity to model weights\n",
    "• **Author:** Artem Sereda\n",
    "• **Institution:** TU Berlin, ML Department, Understandable Machine Intelligence Lab\n",
    "• **Date:** February, 2023\n"
   ],
   "metadata": {
    "collapsed": false
   }
  },
  {
   "cell_type": "code",
   "execution_count": 2,
   "outputs": [],
   "source": [
    "import torch\n",
    "from datasets import load_dataset\n",
    "from transformers import AutoModelForSequenceClassification, AutoTokenizer\n",
    "from noisegrad import NoiseGrad, NoiseGradPlusPlus, explainers\n",
    "from functools import partial\n",
    "import matplotlib.pyplot as plt\n",
    "import numpy as np\n",
    "\n",
    "device = torch.device(\"cpu\")"
   ],
   "metadata": {
    "collapsed": false
   }
  },
  {
   "cell_type": "markdown",
   "source": [
    "### Step 1. Load data and model"
   ],
   "metadata": {
    "collapsed": false
   }
  },
  {
   "cell_type": "code",
   "execution_count": 3,
   "outputs": [
    {
     "name": "stderr",
     "output_type": "stream",
     "text": [
      "Found cached dataset sst2 (/Users/artemsereda/.cache/huggingface/datasets/sst2/default/2.0.0/9896208a8d85db057ac50c72282bcb8fe755accc671a57dd8059d4e130961ed5)\n"
     ]
    },
    {
     "data": {
      "text/plain": "  0%|          | 0/3 [00:00<?, ?it/s]",
      "application/vnd.jupyter.widget-view+json": {
       "version_major": 2,
       "version_minor": 0,
       "model_id": "29a860d6c6dc41be94266d59b8edaee8"
      }
     },
     "metadata": {},
     "output_type": "display_data"
    },
    {
     "data": {
      "text/plain": "['by the end of no such thing the audience , like beatrice , has a watchful affection for the monster .']"
     },
     "execution_count": 3,
     "metadata": {},
     "output_type": "execute_result"
    }
   ],
   "source": [
    "x_batch = [load_dataset(\"sst2\")[\"test\"][\"sentence\"][2]]\n",
    "x_batch"
   ],
   "metadata": {
    "collapsed": false
   }
  },
  {
   "cell_type": "code",
   "execution_count": 4,
   "outputs": [],
   "source": [
    "tokenizer = AutoTokenizer.from_pretrained(\n",
    "    \"distilbert-base-uncased-finetuned-sst-2-english\"\n",
    ")\n",
    "model = AutoModelForSequenceClassification.from_pretrained(\n",
    "    \"distilbert-base-uncased-finetuned-sst-2-english\"\n",
    ")"
   ],
   "metadata": {
    "collapsed": false
   }
  },
  {
   "cell_type": "code",
   "execution_count": 5,
   "outputs": [],
   "source": [
    "input_ids = tokenizer(x_batch, return_tensors=\"pt\")[\"input_ids\"]"
   ],
   "metadata": {
    "collapsed": false
   }
  },
  {
   "cell_type": "code",
   "execution_count": 6,
   "outputs": [],
   "source": [
    "tokens = tokenizer.convert_ids_to_tokens(input_ids.numpy().tolist()[0])"
   ],
   "metadata": {
    "collapsed": false
   }
  },
  {
   "cell_type": "code",
   "execution_count": 7,
   "outputs": [],
   "source": [
    "y_batch = model(input_ids).logits.detach().argmax(axis=-1)"
   ],
   "metadata": {
    "collapsed": false
   }
  },
  {
   "cell_type": "code",
   "execution_count": 8,
   "outputs": [],
   "source": [
    "def embedding_lookup(input_ids):\n",
    "    seq_length = input_ids.size(1)\n",
    "    position_ids = torch.arange(seq_length, dtype=torch.int64, device=input_ids.device)\n",
    "    position_ids = position_ids.unsqueeze(0).expand_as(input_ids)\n",
    "    word_embeddings = model.get_input_embeddings()(input_ids)\n",
    "    position_embeddings = model.get_position_embeddings()(position_ids)\n",
    "    return word_embeddings + position_embeddings\n",
    "\n",
    "\n",
    "x_batch_embeddings = embedding_lookup(input_ids)"
   ],
   "metadata": {
    "collapsed": false
   }
  },
  {
   "cell_type": "markdown",
   "source": [
    "### Step 2. Initialize methods"
   ],
   "metadata": {
    "collapsed": false
   },
   "execution_count": 1
  },
  {
   "cell_type": "code",
   "execution_count": 9,
   "outputs": [],
   "source": [
    "ng = NoiseGrad()\n",
    "ng_pp = NoiseGradPlusPlus()"
   ],
   "metadata": {
    "collapsed": false
   }
  },
  {
   "cell_type": "markdown",
   "source": [
    "### Step 3. Get explanations"
   ],
   "metadata": {
    "collapsed": false
   }
  },
  {
   "cell_type": "code",
   "execution_count": 10,
   "outputs": [
    {
     "name": "stderr",
     "output_type": "stream",
     "text": [
      "/Users/artemsereda/Documents/IdeaProjects/NoiseGrad/noisegrad/explainers.py:78: UserWarning: torch.range is deprecated and will be removed in a future release because its behavior is inconsistent with Python's range builtin. Instead, use torch.arange, which produces values in [start, end).\n",
      "  logits_for_class = logits[torch.range(0, logits.shape[0] - 1, dtype=torch.int64), y_batch]\n"
     ]
    }
   ],
   "source": [
    "baseline_scores = explainers.explain_gradient_x_input(\n",
    "    model, x_batch_embeddings, y_batch, attention_mask=None\n",
    ").numpy()"
   ],
   "metadata": {
    "collapsed": false
   }
  },
  {
   "cell_type": "code",
   "execution_count": 11,
   "outputs": [
    {
     "data": {
      "text/plain": "NoiseGrad:   0%|          | 0/10 [00:00<?, ?it/s]",
      "application/vnd.jupyter.widget-view+json": {
       "version_major": 2,
       "version_minor": 0,
       "model_id": "fb6edb3985c1405baee4228bca9d615e"
      }
     },
     "metadata": {},
     "output_type": "display_data"
    }
   ],
   "source": [
    "ng_scores = ng.enhance_explanation(\n",
    "    model,\n",
    "    x_batch_embeddings,\n",
    "    y_batch,\n",
    "    explanation_fn=partial(explainers.explain_gradient_x_input, attention_mask=None),\n",
    ").numpy()"
   ],
   "metadata": {
    "collapsed": false
   }
  },
  {
   "cell_type": "code",
   "execution_count": 12,
   "outputs": [
    {
     "data": {
      "text/plain": "NoiseGrad++:   0%|          | 0/100 [00:00<?, ?it/s]",
      "application/vnd.jupyter.widget-view+json": {
       "version_major": 2,
       "version_minor": 0,
       "model_id": "7ffe245655a64b4db06c11028e654bc2"
      }
     },
     "metadata": {},
     "output_type": "display_data"
    }
   ],
   "source": [
    "ng_pp_scores = ng_pp.enhance_explanation(\n",
    "    model,\n",
    "    x_batch_embeddings,\n",
    "    y_batch,\n",
    "    explanation_fn=partial(explainers.explain_gradient_x_input, attention_mask=None),\n",
    ").numpy()"
   ],
   "metadata": {
    "collapsed": false
   }
  },
  {
   "cell_type": "markdown",
   "source": [
    "### Step 4. Visualize explanations"
   ],
   "metadata": {
    "collapsed": false
   }
  },
  {
   "cell_type": "code",
   "execution_count": 13,
   "outputs": [],
   "source": [
    "class ColorMapper:\n",
    "    \"\"\"\n",
    "    - Highest score get red (255,0,0).\n",
    "    - Lowest score gets blue (0,0,255).\n",
    "    - Positive scores are linearly interpolated between red and white (255, 255, 255).\n",
    "    - Negative scores are linearly interpolated between blue and white (255, 255, 255).\n",
    "    \"\"\"\n",
    "\n",
    "    def __init__(self, max_score: float, min_score: float):\n",
    "        self.max_score = max_score\n",
    "        self.min_score = min_score\n",
    "\n",
    "    def to_rgb(self, score: float, normalize_to_1: bool = False):\n",
    "        k = 1.0 if normalize_to_1 else 255.0\n",
    "\n",
    "        if score >= 0:\n",
    "            red = k\n",
    "            green = k * (1 - score / self.max_score)\n",
    "            blue = k * (1 - score / self.max_score)\n",
    "        else:\n",
    "            red = k * (1 - abs(score / self.min_score))\n",
    "            green = k * (1 - abs(score / self.min_score))\n",
    "            blue = k\n",
    "        return red, green, blue\n",
    "\n",
    "\n",
    "def visualise_explanations_as_pyplot(explanations, labels):\n",
    "\n",
    "    h_len = len(explanations)\n",
    "    v_len = len(explanations[0][0])\n",
    "\n",
    "    tokens = [i[0] for i in explanations]\n",
    "    scores = [i[1] for i in explanations]\n",
    "\n",
    "    fig, axes = plt.subplots(\n",
    "        h_len,\n",
    "        v_len,\n",
    "        figsize=(v_len * 0.75, h_len * 1.25),\n",
    "        gridspec_kw=dict(left=0.0, right=1.0),\n",
    "    )\n",
    "    hspace = 1.0 if labels is not None else 0.1\n",
    "    plt.subplots_adjust(hspace=hspace, wspace=0.0)\n",
    "    for i, ax in enumerate(axes):\n",
    "        color_mapper = ColorMapper(np.max(scores[i]), np.min(scores[i]))\n",
    "        if labels:\n",
    "            ax[v_len // 2].set_title(labels[i])\n",
    "        for j in range(v_len):\n",
    "            color = color_mapper.to_rgb(scores[i][j], normalize_to_1=True)\n",
    "            rect = plt.Rectangle((0, 0), 1, 1, color=color)\n",
    "            ax[j].add_patch(rect)\n",
    "            ax[j].text(0.5, 0.5, tokens[i][j], ha=\"center\", va=\"center\")\n",
    "            ax[j].set_xlim(0, 1)\n",
    "            ax[j].set_ylim(0, 1)\n",
    "            ax[j].axis(\"off\")\n",
    "            ax[j] = fig.add_axes([0, 0.05, 1, 0.9], fc=[0, 0, 0, 0])\n",
    "\n",
    "    ax = axes.ravel()[-1]\n",
    "    for axis in [\"left\", \"right\"]:\n",
    "        ax.spines[axis].set_visible(False)\n",
    "    ax.set_xticks([])\n",
    "    ax.set_yticks([])\n",
    "    return fig"
   ],
   "metadata": {
    "collapsed": false
   }
  },
  {
   "cell_type": "code",
   "execution_count": 14,
   "outputs": [
    {
     "data": {
      "text/plain": "<Figure size 1800x375 with 144 Axes>",
      "image/png": "[encoded data removed]"
     },
     "metadata": {},
     "output_type": "display_data"
    }
   ],
   "source": [
    "visualise_explanations_as_pyplot(\n",
    "        [\n",
    "            (tokens, baseline_scores[0]),\n",
    "            (tokens, ng_scores[0]),\n",
    "            (tokens, ng_pp_scores[0]),\n",
    "        ],\n",
    "        labels=[\"Baseline\", \"NoiseGrad\", \"NoiseGrad++\"],\n",
    ")\n",
    "plt.show()"
   ],
   "metadata": {
    "collapsed": false
   }
  },
  {
   "cell_type": "code",
   "execution_count": null,
   "outputs": [],
   "source": [],
   "metadata": {
    "collapsed": false
   }
  }
 ],
 "metadata": {
  "kernelspec": {
   "display_name": "Python 3",
   "language": "python",
   "name": "python3"
  },
  "language_info": {
   "codemirror_mode": {
    "name": "ipython",
    "version": 2
   },
   "file_extension": ".py",
   "mimetype": "text/x-python",
   "name": "python",
   "nbconvert_exporter": "python",
   "pygments_lexer": "ipython2",
   "version": "2.7.6"
  }
 },
 "nbformat": 4,
 "nbformat_minor": 0
}
